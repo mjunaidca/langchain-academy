{
  "cells": [
    {
      "cell_type": "markdown",
      "metadata": {
        "id": "JpgoCswikIpm"
      },
      "source": [
        "# Chatbot with Profile Schema\n",
        "\n",
        "## Review\n",
        "\n",
        "We introduced the [LangGraph Memory Store](https://langchain-ai.github.io/langgraph/reference/store/#langgraph.store.base.BaseStore) as a way to save and retrieve long-term memories.\n",
        "\n",
        "We built a simple chatbot that uses both `short-term (within-thread)` and `long-term (across-thread)` memory.\n",
        "\n",
        "It saved long-term [semantic memory](https://langchain-ai.github.io/langgraph/concepts/memory/#semantic-memory) (facts about the user) [\"in the hot path\"](https://langchain-ai.github.io/langgraph/concepts/memory/#writing-memories), as the user is chatting with it.\n",
        "\n",
        "## Goals\n",
        "\n",
        "Our chatbot saved memories as a string. In practice, we often want memories to have a structure.\n",
        "\n",
        "For example, memories can be a [single, continuously updated schema]((https://langchain-ai.github.io/langgraph/concepts/memory/#profile)).\n",
        "\n",
        "In our case, we want this to be a single user profile.\n",
        "\n",
        "We'll extend our chatbot to save semantic memories to a single [user profile](https://langchain-ai.github.io/langgraph/concepts/memory/#profile).\n",
        "\n",
        "We'll also introduce a library, [Trustcall](https://github.com/hinthornw/trustcall), to update this schema with new information."
      ]
    },
    {
      "cell_type": "code",
      "execution_count": 34,
      "metadata": {
        "id": "qiiDMpTFkIpo"
      },
      "outputs": [],
      "source": [
        "%%capture --no-stderr\n",
        "%pip install -U langchain_openai langgraph trustcall langchain_core"
      ]
    },
    {
      "cell_type": "code",
      "execution_count": 35,
      "metadata": {
        "id": "J6wJea-XkIpq"
      },
      "outputs": [],
      "source": [
        "import os, getpass\n",
        "from google.colab import userdata\n",
        "\n",
        "os.environ[\"LANGCHAIN_API_KEY\"] = userdata.get('LANGCHAIN_API_KEY')\n",
        "os.environ[\"LANGCHAIN_TRACING_V2\"] = \"true\"\n",
        "os.environ[\"LANGCHAIN_PROJECT\"] = \"langchain-academy\""
      ]
    },
    {
      "cell_type": "markdown",
      "metadata": {
        "id": "Is4Yy8hCkIpq"
      },
      "source": [
        "## Defining a user profile schema\n",
        "\n",
        "Python has many different types for [structured data](https://python.langchain.com/docs/concepts/structured_outputs/#schema-definition), such as TypedDict, Dictionaries, JSON, and [Pydantic](https://docs.pydantic.dev/latest/).\n",
        "\n",
        "Let's start by using TypedDict to define a user profile schema."
      ]
    },
    {
      "cell_type": "code",
      "execution_count": 36,
      "metadata": {
        "id": "c71D-cgTkIpq"
      },
      "outputs": [],
      "source": [
        "from typing import TypedDict, List\n",
        "\n",
        "class UserProfile(TypedDict):\n",
        "    \"\"\"User profile schema with typed fields\"\"\"\n",
        "    user_name: str  # The user's preferred name\n",
        "    interests: List[str]  # A list of the user's interests"
      ]
    },
    {
      "cell_type": "markdown",
      "metadata": {
        "id": "g6okLCo7kIpr"
      },
      "source": [
        "## Saving a schema to the store\n",
        "\n",
        "The [LangGraph Store](https://langchain-ai.github.io/langgraph/reference/store/#langgraph.store.base.BaseStore) accepts any Python dictionary as the `value`."
      ]
    },
    {
      "cell_type": "code",
      "execution_count": 37,
      "metadata": {
        "id": "vMUxHoq4kIpr",
        "outputId": "fa5c392f-5192-4c43-c46d-02ad54d98847",
        "colab": {
          "base_uri": "https://localhost:8080/"
        }
      },
      "outputs": [
        {
          "output_type": "execute_result",
          "data": {
            "text/plain": [
              "{'user_name': 'Lance', 'interests': ['biking', 'technology', 'coffee']}"
            ]
          },
          "metadata": {},
          "execution_count": 37
        }
      ],
      "source": [
        "# TypedDict instance\n",
        "user_profile: UserProfile = {\n",
        "    \"user_name\": \"Lance\",\n",
        "    \"interests\": [\"biking\", \"technology\", \"coffee\"]\n",
        "}\n",
        "user_profile"
      ]
    },
    {
      "cell_type": "markdown",
      "metadata": {
        "id": "wmJKwwjNkIps"
      },
      "source": [
        "We use the [put](https://langchain-ai.github.io/langgraph/reference/store/#langgraph.store.base.BaseStore.put) method to save the TypedDict to the store."
      ]
    },
    {
      "cell_type": "code",
      "execution_count": 38,
      "metadata": {
        "id": "AXOYpMQjkIps"
      },
      "outputs": [],
      "source": [
        "import uuid\n",
        "from langgraph.store.memory import InMemoryStore\n",
        "\n",
        "# Initialize the in-memory store\n",
        "in_memory_store = InMemoryStore()\n",
        "\n",
        "# Namespace for the memory to save\n",
        "user_id = \"1\"\n",
        "namespace_for_memory = (user_id, \"memory\")\n",
        "\n",
        "# Save a memory to namespace as key and value\n",
        "key = \"user_profile\"\n",
        "value = user_profile\n",
        "in_memory_store.put(namespace_for_memory, key, value)"
      ]
    },
    {
      "cell_type": "markdown",
      "metadata": {
        "id": "nBRUQjd6kIps"
      },
      "source": [
        "We use [search](https://langchain-ai.github.io/langgraph/reference/store/#langgraph.store.base.BaseStore.search) to retrieve objects from the store by namespace."
      ]
    },
    {
      "cell_type": "code",
      "execution_count": 39,
      "metadata": {
        "id": "0IPNlDUkkIps",
        "outputId": "2f8cb3e6-581c-4be4-c80c-b5b333390373",
        "colab": {
          "base_uri": "https://localhost:8080/"
        }
      },
      "outputs": [
        {
          "output_type": "stream",
          "name": "stdout",
          "text": [
            "{'value': {'user_name': 'Lance', 'interests': ['biking', 'technology', 'coffee']}, 'key': 'user_profile', 'namespace': ['1', 'memory'], 'created_at': '2024-11-16T08:01:57.584953+00:00', 'updated_at': '2024-11-16T08:01:57.584960+00:00'}\n"
          ]
        }
      ],
      "source": [
        "# Search\n",
        "for m in in_memory_store.search(namespace_for_memory):\n",
        "    print(m.dict())"
      ]
    },
    {
      "cell_type": "markdown",
      "metadata": {
        "id": "TnvmLN4WkIpt"
      },
      "source": [
        "We can also use [get](https://langchain-ai.github.io/langgraph/reference/store/#langgraph.store.base.BaseStore.get) to retrieve a specific object by namespace and key."
      ]
    },
    {
      "cell_type": "code",
      "execution_count": 40,
      "metadata": {
        "id": "CgWiKcfZkIpt",
        "outputId": "5016df9a-8a5b-4e82-bda1-da76fd5eaa28",
        "colab": {
          "base_uri": "https://localhost:8080/"
        }
      },
      "outputs": [
        {
          "output_type": "execute_result",
          "data": {
            "text/plain": [
              "{'user_name': 'Lance', 'interests': ['biking', 'technology', 'coffee']}"
            ]
          },
          "metadata": {},
          "execution_count": 40
        }
      ],
      "source": [
        "# Get the memory by namespace and key\n",
        "profile = in_memory_store.get(namespace_for_memory, \"user_profile\")\n",
        "profile.value"
      ]
    },
    {
      "cell_type": "markdown",
      "metadata": {
        "id": "QJSqmpUckIpt"
      },
      "source": [
        "## Chatbot with profile schema\n",
        "\n",
        "Now we know how to specify a schema for the memories and save it to the store.\n",
        "\n",
        "Now, how do we actually *create* memories with this particular schema?\n",
        "\n",
        "In our chatbot, we [want to create memories from a user chat](https://langchain-ai.github.io/langgraph/concepts/memory/#profile).\n",
        "\n",
        "This is where the concept of [structured outputs](https://python.langchain.com/docs/concepts/structured_outputs/#recommended-usage) is useful.\n",
        "\n",
        "LangChain's [chat model](https://python.langchain.com/docs/concepts/chat_models/) interface has a [`with_structured_output`](https://python.langchain.com/docs/concepts/structured_outputs/#recommended-usage) method to enforce structured output.\n",
        "\n",
        "This is useful when we want to enforce that the output conforms to a schema, and it parses the output for us."
      ]
    },
    {
      "cell_type": "code",
      "source": [
        "os.environ[\"OPENAI_API_KEY\"] = userdata.get('OPENAI_API_KEY')\n"
      ],
      "metadata": {
        "id": "cMKhbfbg0HaM"
      },
      "execution_count": 41,
      "outputs": []
    },
    {
      "cell_type": "markdown",
      "metadata": {
        "id": "bKSFHYO5kIpt"
      },
      "source": [
        "Let's pass the `UserProfile` schema we created to the `with_structured_output` method.\n",
        "\n",
        "We can then invoke the chat model with a list of [messages](https://python.langchain.com/docs/concepts/messages/) and get a structured output that conforms to our schema."
      ]
    },
    {
      "cell_type": "code",
      "execution_count": 42,
      "metadata": {
        "id": "NCXl9IknkIpt",
        "outputId": "bd9edcb3-1597-4858-f114-7adb224081e3",
        "colab": {
          "base_uri": "https://localhost:8080/"
        }
      },
      "outputs": [
        {
          "output_type": "execute_result",
          "data": {
            "text/plain": [
              "{'user_name': 'Lance', 'interests': ['biking']}"
            ]
          },
          "metadata": {},
          "execution_count": 42
        }
      ],
      "source": [
        "from pydantic import BaseModel, Field\n",
        "\n",
        "from langchain_core.messages import HumanMessage\n",
        "from langchain_openai import ChatOpenAI\n",
        "\n",
        "# Initialize the model\n",
        "model = ChatOpenAI(model=\"gpt-4o\", temperature=0)\n",
        "\n",
        "# Bind schema to model\n",
        "model_with_structure = model.with_structured_output(UserProfile)\n",
        "\n",
        "# Invoke the model to produce structured output that matches the schema\n",
        "structured_output = model_with_structure.invoke([HumanMessage(\"My name is Lance, I like to bike.\")])\n",
        "structured_output"
      ]
    },
    {
      "cell_type": "markdown",
      "metadata": {
        "id": "7pVNJ8jRkIpt"
      },
      "source": [
        "Now, let's use this with our chatbot.\n",
        "\n",
        "This only requires minor changes to the `write_memory` function.\n",
        "\n",
        "We use `model_with_structure`, as defined above, to produce a profile that matches our schema."
      ]
    },
    {
      "cell_type": "code",
      "execution_count": 43,
      "metadata": {
        "id": "naHgxV0OkIpt",
        "outputId": "717ede4a-be9c-4d65-e5d8-12b05b66fd3c",
        "colab": {
          "base_uri": "https://localhost:8080/",
          "height": 350
        }
      },
      "outputs": [
        {
          "output_type": "display_data",
          "data": {
            "image/png": "[encoded data removed]",
            "text/plain": [
              "<IPython.core.display.Image object>"
            ]
          },
          "metadata": {}
        }
      ],
      "source": [
        "from IPython.display import Image, display\n",
        "\n",
        "from langgraph.checkpoint.memory import MemorySaver\n",
        "from langgraph.graph import StateGraph, MessagesState, START, END\n",
        "from langgraph.store.base import BaseStore\n",
        "\n",
        "from langchain_core.messages import HumanMessage, SystemMessage, AIMessage\n",
        "from langchain_core.runnables.config import RunnableConfig\n",
        "\n",
        "# Chatbot instruction\n",
        "MODEL_SYSTEM_MESSAGE = \"\"\"You are a helpful assistant with memory that provides information about the user.\n",
        "If you have memory for this user, use it to personalize your responses.\n",
        "Here is the memory (it may be empty): {memory}\"\"\"\n",
        "\n",
        "# Create new memory from the chat history and any existing memory\n",
        "CREATE_MEMORY_INSTRUCTION = \"\"\"Create or update a user profile memory based on the user's chat history.\n",
        "This will be saved for long-term memory. If there is an existing memory, simply update it.\n",
        "Here is the existing memory (it may be empty): {memory}\"\"\"\n",
        "\n",
        "def call_model(state: MessagesState, config: RunnableConfig, store: BaseStore):\n",
        "\n",
        "    \"\"\"Load memory from the store and use it to personalize the chatbot's response.\"\"\"\n",
        "\n",
        "    # Get the user ID from the config\n",
        "    user_id = config[\"configurable\"][\"user_id\"]\n",
        "\n",
        "    # Retrieve memory from the store\n",
        "    namespace = (\"memory\", user_id)\n",
        "    existing_memory = store.get(namespace, \"user_memory\")\n",
        "\n",
        "    # Format the memories for the system prompt\n",
        "    if existing_memory and existing_memory.value:\n",
        "        memory_dict = existing_memory.value\n",
        "        formatted_memory = (\n",
        "            f\"Name: {memory_dict.get('user_name', 'Unknown')}\\n\"\n",
        "            f\"Interests: {', '.join(memory_dict.get('interests', []))}\"\n",
        "        )\n",
        "    else:\n",
        "        formatted_memory = None\n",
        "\n",
        "    # Format the memory in the system prompt\n",
        "    system_msg = MODEL_SYSTEM_MESSAGE.format(memory=formatted_memory)\n",
        "\n",
        "    # Respond using memory as well as the chat history\n",
        "    response = model.invoke([SystemMessage(content=system_msg)]+state[\"messages\"])\n",
        "\n",
        "    return {\"messages\": response}\n",
        "\n",
        "def write_memory(state: MessagesState, config: RunnableConfig, store: BaseStore):\n",
        "\n",
        "    \"\"\"Reflect on the chat history and save a memory to the store.\"\"\"\n",
        "\n",
        "    # Get the user ID from the config\n",
        "    user_id = config[\"configurable\"][\"user_id\"]\n",
        "\n",
        "    # Retrieve existing memory from the store\n",
        "    namespace = (\"memory\", user_id)\n",
        "    existing_memory = store.get(namespace, \"user_memory\")\n",
        "\n",
        "    # Format the memories for the system prompt\n",
        "    if existing_memory and existing_memory.value:\n",
        "        memory_dict = existing_memory.value\n",
        "        formatted_memory = (\n",
        "            f\"Name: {memory_dict.get('user_name', 'Unknown')}\\n\"\n",
        "            f\"Interests: {', '.join(memory_dict.get('interests', []))}\"\n",
        "        )\n",
        "    else:\n",
        "        formatted_memory = None\n",
        "\n",
        "    # Format the existing memory in the instruction\n",
        "    system_msg = CREATE_MEMORY_INSTRUCTION.format(memory=formatted_memory)\n",
        "\n",
        "    # Invoke the model to produce structured output that matches the schema\n",
        "    new_memory = model_with_structure.invoke([SystemMessage(content=system_msg)]+state['messages'])\n",
        "\n",
        "    # Overwrite the existing use profile memory\n",
        "    key = \"user_memory\"\n",
        "    store.put(namespace, key, new_memory)\n",
        "\n",
        "# Define the graph\n",
        "builder = StateGraph(MessagesState)\n",
        "builder.add_node(\"call_model\", call_model)\n",
        "builder.add_node(\"write_memory\", write_memory)\n",
        "builder.add_edge(START, \"call_model\")\n",
        "builder.add_edge(\"call_model\", \"write_memory\")\n",
        "builder.add_edge(\"write_memory\", END)\n",
        "\n",
        "# Store for long-term (across-thread) memory\n",
        "across_thread_memory = InMemoryStore()\n",
        "\n",
        "# Checkpointer for short-term (within-thread) memory\n",
        "within_thread_memory = MemorySaver()\n",
        "\n",
        "# Compile the graph with the checkpointer fir and store\n",
        "graph = builder.compile(checkpointer=within_thread_memory, store=across_thread_memory)\n",
        "\n",
        "# View\n",
        "display(Image(graph.get_graph(xray=1).draw_mermaid_png()))"
      ]
    },
    {
      "cell_type": "code",
      "execution_count": 44,
      "metadata": {
        "id": "af2xsgAhkIpu",
        "outputId": "ce1f1978-af08-4207-f26d-4a9c867a44c3",
        "colab": {
          "base_uri": "https://localhost:8080/"
        }
      },
      "outputs": [
        {
          "output_type": "stream",
          "name": "stdout",
          "text": [
            "================================\u001b[1m Human Message \u001b[0m=================================\n",
            "\n",
            "Hi, my name is Lance and I like to bike around San Francisco and eat at bakeries.\n",
            "==================================\u001b[1m Ai Message \u001b[0m==================================\n",
            "\n",
            "Hi Lance! It's great to meet you. Biking around San Francisco sounds like a fantastic way to explore the city, and enjoying bakeries along the way makes it even better. Do you have any favorite bakeries in San Francisco that you like to visit?\n"
          ]
        }
      ],
      "source": [
        "# We supply a thread ID for short-term (within-thread) memory\n",
        "# We supply a user ID for long-term (across-thread) memory\n",
        "config = {\"configurable\": {\"thread_id\": \"1\", \"user_id\": \"1\"}}\n",
        "\n",
        "# User input\n",
        "input_messages = [HumanMessage(content=\"Hi, my name is Lance and I like to bike around San Francisco and eat at bakeries.\")]\n",
        "\n",
        "# Run the graph\n",
        "for chunk in graph.stream({\"messages\": input_messages}, config, stream_mode=\"values\"):\n",
        "    chunk[\"messages\"][-1].pretty_print()"
      ]
    },
    {
      "cell_type": "markdown",
      "metadata": {
        "id": "kOWucgkAkIpu"
      },
      "source": [
        "Let's check the memory in the store.\n",
        "\n",
        "We can see that the memory is a dictionary that matches our schema."
      ]
    },
    {
      "cell_type": "code",
      "execution_count": 45,
      "metadata": {
        "id": "Y6xyursDkIpu",
        "outputId": "6715a4a9-d6e6-4aef-e4be-213e61334985",
        "colab": {
          "base_uri": "https://localhost:8080/"
        }
      },
      "outputs": [
        {
          "output_type": "execute_result",
          "data": {
            "text/plain": [
              "{'user_name': 'Lance',\n",
              " 'interests': ['biking around San Francisco', 'eating at bakeries']}"
            ]
          },
          "metadata": {},
          "execution_count": 45
        }
      ],
      "source": [
        "# Namespace for the memory to save\n",
        "user_id = \"1\"\n",
        "namespace = (\"memory\", user_id)\n",
        "existing_memory = across_thread_memory.get(namespace, \"user_memory\")\n",
        "existing_memory.value"
      ]
    },
    {
      "cell_type": "markdown",
      "metadata": {
        "id": "unSiAYj4kIpu"
      },
      "source": [
        "## When can this fail?\n",
        "\n",
        "[`with_structured_output`](https://python.langchain.com/docs/concepts/structured_outputs/#recommended-usage) is very useful, but what happens if we're working with a more complex schema?\n",
        "\n",
        "[Here's](https://github.com/hinthornw/trustcall?tab=readme-ov-file#complex-schema) an example of a more complex schema, which we'll test below.\n",
        "\n",
        "This is a [Pydantic](https://docs.pydantic.dev/latest/) model that describes a user's preferences for communication and trust fall."
      ]
    },
    {
      "cell_type": "code",
      "execution_count": 46,
      "metadata": {
        "id": "3CuMSRjukIpu"
      },
      "outputs": [],
      "source": [
        "from typing import List, Optional\n",
        "\n",
        "class OutputFormat(BaseModel):\n",
        "    preference: str\n",
        "    sentence_preference_revealed: str\n",
        "\n",
        "class TelegramPreferences(BaseModel):\n",
        "    preferred_encoding: Optional[List[OutputFormat]] = None\n",
        "    favorite_telegram_operators: Optional[List[OutputFormat]] = None\n",
        "    preferred_telegram_paper: Optional[List[OutputFormat]] = None\n",
        "\n",
        "class MorseCode(BaseModel):\n",
        "    preferred_key_type: Optional[List[OutputFormat]] = None\n",
        "    favorite_morse_abbreviations: Optional[List[OutputFormat]] = None\n",
        "\n",
        "class Semaphore(BaseModel):\n",
        "    preferred_flag_color: Optional[List[OutputFormat]] = None\n",
        "    semaphore_skill_level: Optional[List[OutputFormat]] = None\n",
        "\n",
        "class TrustFallPreferences(BaseModel):\n",
        "    preferred_fall_height: Optional[List[OutputFormat]] = None\n",
        "    trust_level: Optional[List[OutputFormat]] = None\n",
        "    preferred_catching_technique: Optional[List[OutputFormat]] = None\n",
        "\n",
        "class CommunicationPreferences(BaseModel):\n",
        "    telegram: TelegramPreferences\n",
        "    morse_code: MorseCode\n",
        "    semaphore: Semaphore\n",
        "\n",
        "class UserPreferences(BaseModel):\n",
        "    communication_preferences: CommunicationPreferences\n",
        "    trust_fall_preferences: TrustFallPreferences\n",
        "\n",
        "class TelegramAndTrustFallPreferences(BaseModel):\n",
        "    pertinent_user_preferences: UserPreferences"
      ]
    },
    {
      "cell_type": "markdown",
      "metadata": {
        "id": "sLhn7OeBkIpu"
      },
      "source": [
        "Now, let's try extraction of this schema using the `with_structured_output` method."
      ]
    },
    {
      "cell_type": "code",
      "execution_count": 47,
      "metadata": {
        "id": "avZxi_sfkIpu",
        "outputId": "ad69518d-2d31-4c0d-ff02-36e3f22f86f3",
        "colab": {
          "base_uri": "https://localhost:8080/"
        }
      },
      "outputs": [
        {
          "output_type": "stream",
          "name": "stdout",
          "text": [
            "1 validation error for TelegramAndTrustFallPreferences\n",
            "pertinent_user_preferences.communication_preferences.semaphore\n",
            "  Input should be a valid dictionary or instance of Semaphore [type=model_type, input_value=None, input_type=NoneType]\n",
            "    For further information visit https://errors.pydantic.dev/2.9/v/model_type\n"
          ]
        }
      ],
      "source": [
        "from pydantic import ValidationError\n",
        "\n",
        "# Bind schema to model\n",
        "model_with_structure = model.with_structured_output(TelegramAndTrustFallPreferences)\n",
        "\n",
        "# Conversation\n",
        "conversation = \"\"\"Operator: How may I assist with your telegram, sir?\n",
        "Customer: I need to send a message about our trust fall exercise.\n",
        "Operator: Certainly. Morse code or standard encoding?\n",
        "Customer: Morse, please. I love using a straight key.\n",
        "Operator: Excellent. What's your message?\n",
        "Customer: Tell him I'm ready for a higher fall, and I prefer the diamond formation for catching.\n",
        "Operator: Done. Shall I use our \"Daredevil\" paper for this daring message?\n",
        "Customer: Perfect! Send it by your fastest carrier pigeon.\n",
        "Operator: It'll be there within the hour, sir.\"\"\"\n",
        "\n",
        "# Invoke the model\n",
        "try:\n",
        "    model_with_structure.invoke(f\"\"\"Extract the preferences from the following conversation:\n",
        "    <convo>\n",
        "    {conversation}\n",
        "    </convo>\"\"\")\n",
        "except ValidationError as e:\n",
        "    print(e)"
      ]
    },
    {
      "cell_type": "markdown",
      "metadata": {
        "id": "e9iI2Q7wkIpv"
      },
      "source": [
        "If we naively extract more complex schemas, even using high capacity model like `gpt-4o`, it is prone to failure.\n"
      ]
    },
    {
      "cell_type": "markdown",
      "metadata": {
        "id": "FATCTRahkIpv"
      },
      "source": [
        "## Trustcall for creating and updating profile schemas\n",
        "\n",
        "As we can see, working with schemas can be tricky.\n",
        "\n",
        "Complex schemas can be difficult to extract.\n",
        "\n",
        "In addition, updating even simple schemas can pose challenges.\n",
        "\n",
        "Consider our above chatbot.\n",
        "\n",
        "We regenerated the profile schema *from scratch* each time we chose to save a new memory.\n",
        "\n",
        "This is inefficient, potentially wasting model tokens if the schema contains a lot of information to re-generate each time.\n",
        "\n",
        "Worse, we may loose information when regenerating the profile from scratch.\n",
        "\n",
        "Addressing these problems is the motivation for [TrustCall](https://github.com/hinthornw/trustcall)!\n",
        "\n",
        "This is an open-source library for updating JSON schemas developed by one [Will Fu-Hinthorn](https://github.com/hinthornw) on the LangChain team.\n",
        "\n",
        "It's motivated by exactly these challenges while working on memory.\n",
        "\n",
        "Let's first show simple usage of extraction with TrustCall on this list of [messages](https://python.langchain.com/docs/concepts/messages/).\n"
      ]
    },
    {
      "cell_type": "code",
      "execution_count": 48,
      "metadata": {
        "id": "6uNc2S-WkIpv"
      },
      "outputs": [],
      "source": [
        "# Conversation\n",
        "conversation = [HumanMessage(content=\"Hi, I'm Lance.\"),\n",
        "                AIMessage(content=\"Nice to meet you, Lance.\"),\n",
        "                HumanMessage(content=\"I really like biking around San Francisco.\")]"
      ]
    },
    {
      "cell_type": "markdown",
      "metadata": {
        "id": "0hmCrSKjkIpv"
      },
      "source": [
        "We use `create_extractor`, passing in the model as well as our schema as a [tool](https://python.langchain.com/docs/concepts/tools/).\n",
        "\n",
        "With TrustCall, can supply supply the schema in various ways.\n",
        "\n",
        "For example, we can pass a JSON object / Python dictionary or Pydantic model.\n",
        "\n",
        "Under the hood, TrustCall uses [tool calling](https://python.langchain.com/docs/concepts/tool_calling/) to produce [structured output](https://python.langchain.com/docs/concepts/structured_outputs/) from an input list of [messages](https://python.langchain.com/docs/concepts/messages/).\n",
        "\n",
        "To force Trustcall to produce [structured output](https://python.langchain.com/docs/concepts/structured_outputs/), we can include the schema name in the `tool_choice` argument.\n",
        "\n",
        "We can invoke the extractor with  the above conversation."
      ]
    },
    {
      "cell_type": "code",
      "execution_count": 49,
      "metadata": {
        "id": "HRMe7HFFkIpw"
      },
      "outputs": [],
      "source": [
        "from trustcall import create_extractor\n",
        "\n",
        "# Schema\n",
        "class UserProfile(BaseModel):\n",
        "    \"\"\"User profile schema with typed fields\"\"\"\n",
        "    user_name: str = Field(description=\"The user's preferred name\")\n",
        "    interests: List[str] = Field(description=\"A list of the user's interests\")\n",
        "\n",
        "# Initialize the model\n",
        "model = ChatOpenAI(model=\"gpt-4o\", temperature=0)\n",
        "\n",
        "# Create the extractor\n",
        "trustcall_extractor = create_extractor(\n",
        "    model,\n",
        "    tools=[UserProfile],\n",
        "    tool_choice=\"UserProfile\"\n",
        ")\n",
        "\n",
        "# Instruction\n",
        "system_msg = \"Extract the user profile from the following conversation\"\n",
        "\n",
        "# Invoke the extractor\n",
        "result = trustcall_extractor.invoke({\"messages\": [SystemMessage(content=system_msg)]+conversation})"
      ]
    },
    {
      "cell_type": "markdown",
      "metadata": {
        "id": "qUGCK202kIpw"
      },
      "source": [
        "When we invoke the extractor, we get a few things:\n",
        "\n",
        "* `messages`: The list of `AIMessages` that contain the tool calls.\n",
        "* `responses`: The resulting parsed tool calls that match our schema.\n",
        "* `response_metadata`: Applicable if updating existing tool calls. It says which of the responses correspond to which of the existing objects.\n"
      ]
    },
    {
      "cell_type": "code",
      "execution_count": 50,
      "metadata": {
        "id": "xTfPV_0vkIpw",
        "outputId": "80b4dd95-0cc9-4c5c-f21a-efc94ca2325d",
        "colab": {
          "base_uri": "https://localhost:8080/"
        }
      },
      "outputs": [
        {
          "output_type": "stream",
          "name": "stdout",
          "text": [
            "==================================\u001b[1m Ai Message \u001b[0m==================================\n",
            "Tool Calls:\n",
            "  UserProfile (call_tGsO8SM3JbDEhvISeWVnpuJo)\n",
            " Call ID: call_tGsO8SM3JbDEhvISeWVnpuJo\n",
            "  Args:\n",
            "    user_name: Lance\n",
            "    interests: ['biking', 'San Francisco']\n"
          ]
        }
      ],
      "source": [
        "for m in result[\"messages\"]:\n",
        "    m.pretty_print()"
      ]
    },
    {
      "cell_type": "code",
      "execution_count": 51,
      "metadata": {
        "id": "aHXgvWlZkIpw",
        "outputId": "b4179257-0fee-46ca-81f0-4911b576ac27",
        "colab": {
          "base_uri": "https://localhost:8080/"
        }
      },
      "outputs": [
        {
          "output_type": "execute_result",
          "data": {
            "text/plain": [
              "[UserProfile(user_name='Lance', interests=['biking', 'San Francisco'])]"
            ]
          },
          "metadata": {},
          "execution_count": 51
        }
      ],
      "source": [
        "schema = result[\"responses\"]\n",
        "schema"
      ]
    },
    {
      "cell_type": "code",
      "execution_count": 52,
      "metadata": {
        "id": "spc17V3xkIpx",
        "outputId": "64899210-e6ca-4c29-cbd1-64662b9d757d",
        "colab": {
          "base_uri": "https://localhost:8080/"
        }
      },
      "outputs": [
        {
          "output_type": "execute_result",
          "data": {
            "text/plain": [
              "{'user_name': 'Lance', 'interests': ['biking', 'San Francisco']}"
            ]
          },
          "metadata": {},
          "execution_count": 52
        }
      ],
      "source": [
        "schema[0].model_dump()"
      ]
    },
    {
      "cell_type": "code",
      "execution_count": 53,
      "metadata": {
        "id": "2cA0sfgVkIpx",
        "outputId": "5896466d-3434-4e48-fb3a-9e5a42600dda",
        "colab": {
          "base_uri": "https://localhost:8080/"
        }
      },
      "outputs": [
        {
          "output_type": "execute_result",
          "data": {
            "text/plain": [
              "[{'id': 'call_tGsO8SM3JbDEhvISeWVnpuJo'}]"
            ]
          },
          "metadata": {},
          "execution_count": 53
        }
      ],
      "source": [
        "result[\"response_metadata\"]"
      ]
    },
    {
      "cell_type": "markdown",
      "metadata": {
        "id": "EWpVT7M0kIpx"
      },
      "source": [
        "Let's see how we can use it to *update* the profile.\n",
        "\n",
        "For updating, TrustCall takes a set of messages as well as the existing schema.\n",
        "\n",
        "The central idea is that it prompts the model to produce a [JSON Patch](https://jsonpatch.com/) to update only the relevant parts of the schema.\n",
        "\n",
        "This is less error-prone than naively overwriting the entire schema.\n",
        "\n",
        "It's also more efficient since the model only needs to generate the parts of the schema that have changed.\n",
        "\n",
        "We can save the existing schema as a dict.\n",
        "\n",
        "We can use `model_dump()` to serialize a Pydantic model instance into a dict.\n",
        "\n",
        "We pass it to the `\"existing\"` argument along with the schema name, `UserProfile`."
      ]
    },
    {
      "cell_type": "code",
      "execution_count": 54,
      "metadata": {
        "id": "8ttg1fzgkIpx"
      },
      "outputs": [],
      "source": [
        "# Update the conversation\n",
        "updated_conversation = [HumanMessage(content=\"Hi, I'm Lance.\"),\n",
        "                        AIMessage(content=\"Nice to meet you, Lance.\"),\n",
        "                        HumanMessage(content=\"I really like biking around San Francisco.\"),\n",
        "                        AIMessage(content=\"San Francisco is a great city! Where do you go after biking?\"),\n",
        "                        HumanMessage(content=\"I really like to go to a bakery after biking.\"),]\n",
        "\n",
        "# Update the instruction\n",
        "system_msg = f\"\"\"Update the memory (JSON doc) to incorporate new information from the following conversation\"\"\"\n",
        "\n",
        "# Invoke the extractor with the updated instruction and existing profile with the corresponding tool name (UserProfile)\n",
        "result = trustcall_extractor.invoke({\"messages\": [SystemMessage(content=system_msg)]+updated_conversation},\n",
        "                                    {\"existing\": {\"UserProfile\": schema[0].model_dump()}})"
      ]
    },
    {
      "cell_type": "code",
      "execution_count": 55,
      "metadata": {
        "id": "usPNvFEZkIpy",
        "outputId": "d5b5ff5b-1b14-47f7-9aa2-91c9254fcd38",
        "colab": {
          "base_uri": "https://localhost:8080/"
        }
      },
      "outputs": [
        {
          "output_type": "stream",
          "name": "stdout",
          "text": [
            "==================================\u001b[1m Ai Message \u001b[0m==================================\n",
            "Tool Calls:\n",
            "  UserProfile (call_8NJ5q565kjqsiqGyz0WCczlt)\n",
            " Call ID: call_8NJ5q565kjqsiqGyz0WCczlt\n",
            "  Args:\n",
            "    user_name: Lance\n",
            "    interests: ['biking', 'bakeries']\n"
          ]
        }
      ],
      "source": [
        "for m in result[\"messages\"]:\n",
        "    m.pretty_print()"
      ]
    },
    {
      "cell_type": "code",
      "execution_count": 56,
      "metadata": {
        "id": "LURwyPunkIpy",
        "outputId": "29854080-ab7b-4ac9-a761-9b18f8a0b90f",
        "colab": {
          "base_uri": "https://localhost:8080/"
        }
      },
      "outputs": [
        {
          "output_type": "execute_result",
          "data": {
            "text/plain": [
              "[{'id': 'call_8NJ5q565kjqsiqGyz0WCczlt'}]"
            ]
          },
          "metadata": {},
          "execution_count": 56
        }
      ],
      "source": [
        "result[\"response_metadata\"]"
      ]
    },
    {
      "cell_type": "code",
      "execution_count": 57,
      "metadata": {
        "id": "FHIJrq_xkIpy",
        "outputId": "9833f0fb-a600-4ae0-b95c-93f634059ce5",
        "colab": {
          "base_uri": "https://localhost:8080/"
        }
      },
      "outputs": [
        {
          "output_type": "execute_result",
          "data": {
            "text/plain": [
              "{'user_name': 'Lance', 'interests': ['biking', 'bakeries']}"
            ]
          },
          "metadata": {},
          "execution_count": 57
        }
      ],
      "source": [
        "updated_schema = result[\"responses\"][0]\n",
        "updated_schema.model_dump()"
      ]
    },
    {
      "cell_type": "markdown",
      "metadata": {
        "id": "Nm9BbQOwkIpy"
      },
      "source": [
        "LangSmith trace:\n",
        "\n",
        "https://smith.langchain.com/public/229eae22-1edb-44c6-93e6-489124a43968/r\n",
        "\n",
        "Now, let's also test Trustcall on the [challenging schema](https://github.com/hinthornw/trustcall?tab=readme-ov-file#complex-schema) that we saw earlier."
      ]
    },
    {
      "cell_type": "code",
      "execution_count": 58,
      "metadata": {
        "id": "B7nxiFKRkIpy",
        "outputId": "11c1eead-01a8-42cc-9954-37d7ecf356bc",
        "colab": {
          "base_uri": "https://localhost:8080/"
        }
      },
      "outputs": [
        {
          "output_type": "execute_result",
          "data": {
            "text/plain": [
              "TelegramAndTrustFallPreferences(pertinent_user_preferences=UserPreferences(communication_preferences=CommunicationPreferences(telegram=TelegramPreferences(preferred_encoding=[OutputFormat(preference='Morse', sentence_preference_revealed='Morse code or standard encoding?')], favorite_telegram_operators=None, preferred_telegram_paper=[OutputFormat(preference='Daredevil', sentence_preference_revealed=\"Shall I use our 'Daredevil' paper for this daring message?\")]), morse_code=MorseCode(preferred_key_type=[OutputFormat(preference='straight key', sentence_preference_revealed='I love using a straight key.')], favorite_morse_abbreviations=None), semaphore=Semaphore(preferred_flag_color=None, semaphore_skill_level=None)), trust_fall_preferences=TrustFallPreferences(preferred_fall_height=[OutputFormat(preference='higher', sentence_preference_revealed=\"I'm ready for a higher fall.\")], trust_level=None, preferred_catching_technique=[OutputFormat(preference='diamond formation', sentence_preference_revealed='I prefer the diamond formation for catching.')])))"
            ]
          },
          "metadata": {},
          "execution_count": 58
        }
      ],
      "source": [
        "bound = create_extractor(\n",
        "    model,\n",
        "    tools=[TelegramAndTrustFallPreferences],\n",
        "    tool_choice=\"TelegramAndTrustFallPreferences\",\n",
        ")\n",
        "\n",
        "# Conversation\n",
        "conversation = \"\"\"Operator: How may I assist with your telegram, sir?\n",
        "Customer: I need to send a message about our trust fall exercise.\n",
        "Operator: Certainly. Morse code or standard encoding?\n",
        "Customer: Morse, please. I love using a straight key.\n",
        "Operator: Excellent. What's your message?\n",
        "Customer: Tell him I'm ready for a higher fall, and I prefer the diamond formation for catching.\n",
        "Operator: Done. Shall I use our \"Daredevil\" paper for this daring message?\n",
        "Customer: Perfect! Send it by your fastest carrier pigeon.\n",
        "Operator: It'll be there within the hour, sir.\"\"\"\n",
        "\n",
        "result = bound.invoke(\n",
        "    f\"\"\"Extract the preferences from the following conversation:\n",
        "<convo>\n",
        "{conversation}\n",
        "</convo>\"\"\"\n",
        ")\n",
        "\n",
        "# Extract the preferences\n",
        "result[\"responses\"][0]"
      ]
    },
    {
      "cell_type": "markdown",
      "metadata": {
        "id": "01tjQOGakIpy"
      },
      "source": [
        "Trace:\n",
        "\n",
        "https://smith.langchain.com/public/5cd23009-3e05-4b00-99f0-c66ee3edd06e/r\n",
        "\n",
        "For more examples, you can see an overview video [here](https://www.youtube.com/watch?v=-H4s0jQi-QY)."
      ]
    },
    {
      "cell_type": "markdown",
      "metadata": {
        "id": "UgOXp9J3kIpy"
      },
      "source": [
        "## Chatbot with profile schema updating\n",
        "\n",
        "Now, let's bring Trustcall into our chatbot to create *and update* a memory profile."
      ]
    },
    {
      "cell_type": "code",
      "execution_count": 65,
      "metadata": {
        "id": "mF_CHEThkIpy",
        "outputId": "88b29be8-e1f2-444f-8f46-e7bb6e18de31",
        "colab": {
          "base_uri": "https://localhost:8080/",
          "height": 350
        }
      },
      "outputs": [
        {
          "output_type": "display_data",
          "data": {
            "image/png": "[encoded data removed]",
            "text/plain": [
              "<IPython.core.display.Image object>"
            ]
          },
          "metadata": {}
        }
      ],
      "source": [
        "from IPython.display import Image, display\n",
        "\n",
        "from langchain_core.messages import HumanMessage, SystemMessage\n",
        "from langgraph.graph import StateGraph, MessagesState, START, END\n",
        "from langchain_core.runnables.config import RunnableConfig\n",
        "from langgraph.checkpoint.memory import MemorySaver\n",
        "from langgraph.store.base import BaseStore\n",
        "\n",
        "# Initialize the model\n",
        "model = ChatOpenAI(model=\"gpt-4o\", temperature=0)\n",
        "\n",
        "# Schema\n",
        "class UserProfile(BaseModel):\n",
        "    \"\"\" Profile of a user \"\"\"\n",
        "    user_name: str = Field(description=\"The user's preferred name\")\n",
        "    user_location: str = Field(description=\"The user's location\")\n",
        "    interests: list = Field(description=\"A list of the user's interests\")\n",
        "\n",
        "# Create the extractor\n",
        "trustcall_extractor = create_extractor(\n",
        "    model,\n",
        "    tools=[UserProfile],\n",
        "    tool_choice=\"UserProfile\", # Enforces use of the UserProfile tool\n",
        ")\n",
        "\n",
        "# Chatbot instruction\n",
        "MODEL_SYSTEM_MESSAGE = \"\"\"You are a helpful assistant with memory that provides information about the user.\n",
        "If you have memory for this user, use it to personalize your responses.\n",
        "Here is the memory (it may be empty): {memory}\"\"\"\n",
        "\n",
        "# Extraction instruction\n",
        "TRUSTCALL_INSTRUCTION = \"\"\"Create or update the memory (JSON doc) to incorporate information from the following conversation:\"\"\"\n",
        "\n",
        "def call_model(state: MessagesState, config: RunnableConfig, store: BaseStore):\n",
        "\n",
        "    \"\"\"Load memory from the store and use it to personalize the chatbot's response.\"\"\"\n",
        "\n",
        "    # Get the user ID from the config\n",
        "    user_id = config[\"configurable\"][\"user_id\"]\n",
        "\n",
        "    # Retrieve memory from the store\n",
        "    namespace = (\"memory\", user_id)\n",
        "    existing_memory = store.get(namespace, \"user_memory\")\n",
        "\n",
        "    # Format the memories for the system prompt\n",
        "    if existing_memory and existing_memory.value:\n",
        "        memory_dict = existing_memory.value\n",
        "        formatted_memory = (\n",
        "            f\"Name: {memory_dict.get('user_name', 'Unknown')}\\n\"\n",
        "            f\"Location: {memory_dict.get('user_location', 'Unknown')}\\n\"\n",
        "            f\"Interests: {', '.join([str(item) for sublist in memory_dict.get('interests', []) for item in (sublist if isinstance(sublist, list) else [sublist])])}\"\n",
        "        )\n",
        "    else:\n",
        "        formatted_memory = None\n",
        "\n",
        "    # Format the memory in the system prompt\n",
        "    system_msg = MODEL_SYSTEM_MESSAGE.format(memory=formatted_memory)\n",
        "\n",
        "    # Respond using memory as well as the chat history\n",
        "    response = model.invoke([SystemMessage(content=system_msg)]+state[\"messages\"])\n",
        "\n",
        "    return {\"messages\": response}\n",
        "\n",
        "def write_memory(state: MessagesState, config: RunnableConfig, store: BaseStore):\n",
        "\n",
        "    \"\"\"Reflect on the chat history and save a memory to the store.\"\"\"\n",
        "\n",
        "    # Get the user ID from the config\n",
        "    user_id = config[\"configurable\"][\"user_id\"]\n",
        "\n",
        "    # Retrieve existing memory from the store\n",
        "    namespace = (\"memory\", user_id)\n",
        "    existing_memory = store.get(namespace, \"user_memory\")\n",
        "\n",
        "    # Get the profile as the value from the list, and convert it to a JSON doc\n",
        "    existing_profile = {\"UserProfile\": existing_memory.value} if existing_memory else None\n",
        "\n",
        "    # Invoke the extractor\n",
        "    result = trustcall_extractor.invoke({\"messages\": [SystemMessage(content=TRUSTCALL_INSTRUCTION)]+state[\"messages\"], \"existing\": existing_profile})\n",
        "\n",
        "    # Get the updated profile as a JSON object\n",
        "    updated_profile = result[\"responses\"][0].model_dump()\n",
        "\n",
        "    # Save the updated profile\n",
        "    key = \"user_memory\"\n",
        "    store.put(namespace, key, updated_profile)\n",
        "\n",
        "# Define the graph\n",
        "builder = StateGraph(MessagesState)\n",
        "builder.add_node(\"call_model\", call_model)\n",
        "builder.add_node(\"write_memory\", write_memory)\n",
        "builder.add_edge(START, \"call_model\")\n",
        "builder.add_edge(\"call_model\", \"write_memory\")\n",
        "builder.add_edge(\"write_memory\", END)\n",
        "\n",
        "# Store for long-term (across-thread) memory\n",
        "across_thread_memory = InMemoryStore()\n",
        "\n",
        "# Checkpointer for short-term (within-thread) memory\n",
        "within_thread_memory = MemorySaver()\n",
        "\n",
        "# Compile the graph with the checkpointer fir and store\n",
        "graph = builder.compile(checkpointer=within_thread_memory, store=across_thread_memory)\n",
        "\n",
        "# View\n",
        "display(Image(graph.get_graph(xray=1).draw_mermaid_png()))"
      ]
    },
    {
      "cell_type": "code",
      "execution_count": 66,
      "metadata": {
        "id": "sTueVnrvkIpz",
        "outputId": "93ac0eee-453f-411c-9787-105733eb364d",
        "colab": {
          "base_uri": "https://localhost:8080/"
        }
      },
      "outputs": [
        {
          "output_type": "stream",
          "name": "stdout",
          "text": [
            "================================\u001b[1m Human Message \u001b[0m=================================\n",
            "\n",
            "Hi, my name is Lance\n",
            "==================================\u001b[1m Ai Message \u001b[0m==================================\n",
            "\n",
            "Hello, Lance! It's nice to meet you. How can I assist you today?\n"
          ]
        }
      ],
      "source": [
        "# We supply a thread ID for short-term (within-thread) memory\n",
        "# We supply a user ID for long-term (across-thread) memory\n",
        "config = {\"configurable\": {\"thread_id\": \"1\", \"user_id\": \"1\"}}\n",
        "\n",
        "# User input\n",
        "input_messages = [HumanMessage(content=\"Hi, my name is Lance\")]\n",
        "\n",
        "# Run the graph\n",
        "for chunk in graph.stream({\"messages\": input_messages}, config, stream_mode=\"values\"):\n",
        "    chunk[\"messages\"][-1].pretty_print()"
      ]
    },
    {
      "cell_type": "code",
      "execution_count": 67,
      "metadata": {
        "id": "g5f5HqtGkIpz",
        "outputId": "baa6d325-d8da-4cd6-f78f-47645b39e536",
        "colab": {
          "base_uri": "https://localhost:8080/"
        }
      },
      "outputs": [
        {
          "output_type": "stream",
          "name": "stdout",
          "text": [
            "================================\u001b[1m Human Message \u001b[0m=================================\n",
            "\n",
            "I like to bike around San Francisco\n",
            "==================================\u001b[1m Ai Message \u001b[0m==================================\n",
            "\n",
            "That sounds like a great way to explore the city! San Francisco has some beautiful routes for biking. Do you have any favorite trails or areas you like to ride in?\n"
          ]
        }
      ],
      "source": [
        "# User input\n",
        "input_messages = [HumanMessage(content=\"I like to bike around San Francisco\")]\n",
        "\n",
        "# Run the graph\n",
        "for chunk in graph.stream({\"messages\": input_messages}, config, stream_mode=\"values\"):\n",
        "    chunk[\"messages\"][-1].pretty_print()"
      ]
    },
    {
      "cell_type": "code",
      "execution_count": 68,
      "metadata": {
        "id": "CopFknqukIpz",
        "outputId": "d35f62b1-304f-4c01-faa7-40f93cff79a1",
        "colab": {
          "base_uri": "https://localhost:8080/"
        }
      },
      "outputs": [
        {
          "output_type": "execute_result",
          "data": {
            "text/plain": [
              "{'value': {'user_name': 'Lance',\n",
              "  'user_location': 'San Francisco',\n",
              "  'interests': ['biking']},\n",
              " 'key': 'user_memory',\n",
              " 'namespace': ['memory', '1'],\n",
              " 'created_at': '2024-11-16T08:07:31.914981+00:00',\n",
              " 'updated_at': '2024-11-16T08:07:35.000001+00:00'}"
            ]
          },
          "metadata": {},
          "execution_count": 68
        }
      ],
      "source": [
        "# Namespace for the memory to save\n",
        "user_id = \"1\"\n",
        "namespace = (\"memory\", user_id)\n",
        "existing_memory = across_thread_memory.get(namespace, \"user_memory\")\n",
        "existing_memory.dict()"
      ]
    },
    {
      "cell_type": "code",
      "execution_count": 69,
      "metadata": {
        "id": "wFBwpn5UkIpz",
        "outputId": "8a6fc4f6-4587-4ab8-e98b-74131c28869b",
        "colab": {
          "base_uri": "https://localhost:8080/"
        }
      },
      "outputs": [
        {
          "output_type": "execute_result",
          "data": {
            "text/plain": [
              "{'user_name': 'Lance',\n",
              " 'user_location': 'San Francisco',\n",
              " 'interests': ['biking']}"
            ]
          },
          "metadata": {},
          "execution_count": 69
        }
      ],
      "source": [
        "# The user profile saved as a JSON object\n",
        "existing_memory.value"
      ]
    },
    {
      "cell_type": "code",
      "execution_count": 70,
      "metadata": {
        "id": "BQUvrVRckIpz",
        "outputId": "876a901f-7ce3-4e06-8cd0-f1bcc67078ab",
        "colab": {
          "base_uri": "https://localhost:8080/"
        }
      },
      "outputs": [
        {
          "output_type": "stream",
          "name": "stdout",
          "text": [
            "================================\u001b[1m Human Message \u001b[0m=================================\n",
            "\n",
            "I also enjoy going to bakeries\n",
            "==================================\u001b[1m Ai Message \u001b[0m==================================\n",
            "\n",
            "Biking and then stopping by a bakery sounds like a perfect day in San Francisco! There are so many great bakeries in the city. Do you have any favorites, or are you looking for new recommendations?\n"
          ]
        }
      ],
      "source": [
        "# User input\n",
        "input_messages = [HumanMessage(content=\"I also enjoy going to bakeries\")]\n",
        "\n",
        "# Run the graph\n",
        "for chunk in graph.stream({\"messages\": input_messages}, config, stream_mode=\"values\"):\n",
        "    chunk[\"messages\"][-1].pretty_print()"
      ]
    },
    {
      "cell_type": "markdown",
      "metadata": {
        "id": "2e6gJgW1kIp0"
      },
      "source": [
        "Continue the conversation in a new thread."
      ]
    },
    {
      "cell_type": "code",
      "execution_count": 71,
      "metadata": {
        "id": "dlSIkOWckIp0",
        "outputId": "08b23b40-5b60-4893-df74-5b3c3cc76a27",
        "colab": {
          "base_uri": "https://localhost:8080/"
        }
      },
      "outputs": [
        {
          "output_type": "stream",
          "name": "stdout",
          "text": [
            "================================\u001b[1m Human Message \u001b[0m=================================\n",
            "\n",
            "What bakeries do you recommend for me?\n",
            "==================================\u001b[1m Ai Message \u001b[0m==================================\n",
            "\n",
            "Since you're in San Francisco and enjoy going to bakeries, here are a few recommendations you might like:\n",
            "\n",
            "1. **Tartine Bakery** - Known for its delicious bread and pastries, it's a must-visit for any bakery enthusiast.\n",
            "\n",
            "2. **B. Patisserie** - Offers a delightful selection of French pastries, including their famous kouign-amann.\n",
            "\n",
            "3. **Arsicault Bakery** - Renowned for its croissants, which have been praised as some of the best in the country.\n",
            "\n",
            "4. **Craftsman and Wolves** - A modern patisserie with inventive pastries and a unique twist on traditional favorites.\n",
            "\n",
            "5. **Mr. Holmes Bakehouse** - Famous for their cruffins, a hybrid of a croissant and muffin, and other creative pastries.\n",
            "\n",
            "These spots should offer a great variety of treats for you to enjoy on your bakery adventures around the city!\n"
          ]
        }
      ],
      "source": [
        "# We supply a thread ID for short-term (within-thread) memory\n",
        "# We supply a user ID for long-term (across-thread) memory\n",
        "config = {\"configurable\": {\"thread_id\": \"2\", \"user_id\": \"1\"}}\n",
        "\n",
        "# User input\n",
        "input_messages = [HumanMessage(content=\"What bakeries do you recommend for me?\")]\n",
        "\n",
        "# Run the graph\n",
        "for chunk in graph.stream({\"messages\": input_messages}, config, stream_mode=\"values\"):\n",
        "    chunk[\"messages\"][-1].pretty_print()"
      ]
    },
    {
      "cell_type": "markdown",
      "metadata": {
        "id": "44mGKz74kIp0"
      },
      "source": [
        "Trace:\n",
        "\n",
        "https://smith.langchain.com/public/f45bdaf0-6963-4c19-8ec9-f4b7fe0f68ad/r\n",
        "\n",
        "## Studio\n",
        "\n",
        "![Screenshot 2024-10-30 at 11.26.31 AM.png](https://cdn.prod.website-files.com/65b8cd72835ceeacd4449a53/6732d0437060f1754ea79908_Screenshot%202024-11-11%20at%207.48.53%E2%80%AFPM.png)"
      ]
    },
    {
      "cell_type": "code",
      "execution_count": null,
      "metadata": {
        "id": "fgjZvgmikIp0"
      },
      "outputs": [],
      "source": []
    }
  ],
  "metadata": {
    "kernelspec": {
      "display_name": "Python 3 (ipykernel)",
      "language": "python",
      "name": "python3"
    },
    "language_info": {
      "codemirror_mode": {
        "name": "ipython",
        "version": 3
      },
      "file_extension": ".py",
      "mimetype": "text/x-python",
      "name": "python",
      "nbconvert_exporter": "python",
      "pygments_lexer": "ipython3",
      "version": "3.11.8"
    },
    "colab": {
      "provenance": []
    }
  },
  "nbformat": 4,
  "nbformat_minor": 0
}